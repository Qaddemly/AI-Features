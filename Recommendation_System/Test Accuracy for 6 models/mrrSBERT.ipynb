{
 "cells": [
  {
   "cell_type": "code",
   "execution_count": 1,
   "metadata": {},
   "outputs": [
    {
     "name": "stderr",
     "output_type": "stream",
     "text": [
      "c:\\Users\\LAPSHOP\\anaconda3\\envs\\my_env\\lib\\site-packages\\tqdm\\auto.py:21: TqdmWarning: IProgress not found. Please update jupyter and ipywidgets. See https://ipywidgets.readthedocs.io/en/stable/user_install.html\n",
      "  from .autonotebook import tqdm as notebook_tqdm\n"
     ]
    }
   ],
   "source": [
    "import pandas as pd\n",
    "import numpy as np\n",
    "import time\n",
    "from sentence_transformers import SentenceTransformer\n",
    "from sklearn.metrics.pairwise import cosine_similarity\n",
    "import re\n",
    "from sklearn.feature_extraction.text import CountVectorizer\n",
    "import matplotlib.pyplot as plt"
   ]
  },
  {
   "cell_type": "code",
   "execution_count": 2,
   "metadata": {},
   "outputs": [],
   "source": [
    "# Load the dataset\n",
    "Jobs = pd.read_csv(\"JobsFE.csv\")"
   ]
  },
  {
   "cell_type": "code",
   "execution_count": 3,
   "metadata": {},
   "outputs": [
    {
     "name": "stderr",
     "output_type": "stream",
     "text": [
      "C:\\Users\\LAPSHOP\\AppData\\Local\\Temp\\ipykernel_23092\\3432261488.py:4: FutureWarning: A value is trying to be set on a copy of a DataFrame or Series through chained assignment using an inplace method.\n",
      "The behavior will change in pandas 3.0. This inplace method will never work because the intermediate object on which we are setting values always behaves as a copy.\n",
      "\n",
      "For example, when doing 'df[col].method(value, inplace=True)', try using 'df.method({col: value}, inplace=True)' or df[col] = df[col].method(value) instead, to perform the operation inplace on the original object.\n",
      "\n",
      "\n",
      "  Jobs[\"job_role_and_duties\"].fillna(\"\", inplace=True)\n",
      "C:\\Users\\LAPSHOP\\AppData\\Local\\Temp\\ipykernel_23092\\3432261488.py:5: FutureWarning: A value is trying to be set on a copy of a DataFrame or Series through chained assignment using an inplace method.\n",
      "The behavior will change in pandas 3.0. This inplace method will never work because the intermediate object on which we are setting values always behaves as a copy.\n",
      "\n",
      "For example, when doing 'df[col].method(value, inplace=True)', try using 'df.method({col: value}, inplace=True)' or df[col] = df[col].method(value) instead, to perform the operation inplace on the original object.\n",
      "\n",
      "\n",
      "  Jobs[\"requisite_skill\"].fillna(\"\", inplace=True)\n",
      "C:\\Users\\LAPSHOP\\AppData\\Local\\Temp\\ipykernel_23092\\3432261488.py:6: FutureWarning: A value is trying to be set on a copy of a DataFrame or Series through chained assignment using an inplace method.\n",
      "The behavior will change in pandas 3.0. This inplace method will never work because the intermediate object on which we are setting values always behaves as a copy.\n",
      "\n",
      "For example, when doing 'df[col].method(value, inplace=True)', try using 'df.method({col: value}, inplace=True)' or df[col] = df[col].method(value) instead, to perform the operation inplace on the original object.\n",
      "\n",
      "\n",
      "  Jobs[\"position\"].fillna(\"\", inplace=True)\n"
     ]
    }
   ],
   "source": [
    "# Data Cleaning\n",
    "# Remove duplicates and fill missing values\n",
    "Jobs.drop_duplicates(subset=[\"Job Id\"], inplace=True)\n",
    "Jobs[\"job_role_and_duties\"].fillna(\"\", inplace=True)\n",
    "Jobs[\"requisite_skill\"].fillna(\"\", inplace=True)\n",
    "Jobs[\"position\"].fillna(\"\", inplace=True)"
   ]
  },
  {
   "cell_type": "code",
   "execution_count": 4,
   "metadata": {},
   "outputs": [],
   "source": [
    "# Combine relevant columns into a single text column\n",
    "Jobs[\"job_text\"] = (\n",
    "    Jobs[\"position\"].astype(str) + \" \" +\n",
    "    Jobs[\"job_role_and_duties\"].astype(str) + \" \" +\n",
    "    Jobs[\"requisite_skill\"].astype(str)\n",
    ")"
   ]
  },
  {
   "cell_type": "code",
   "execution_count": 5,
   "metadata": {},
   "outputs": [],
   "source": [
    "import pandas as pd\n",
    "import numpy as np\n",
    "import time\n",
    "import matplotlib.pyplot as plt\n",
    "from sentence_transformers import SentenceTransformer\n",
    "from sklearn.feature_extraction.text import TfidfVectorizer\n",
    "from sklearn.metrics.pairwise import cosine_similarity"
   ]
  },
  {
   "cell_type": "code",
   "execution_count": 6,
   "metadata": {},
   "outputs": [],
   "source": [
    "# Example resume text\n",
    "resume_text = \"\"\"Yomna Waleed Elsayed Ahmed Hassan\n",
    "Junior machine learning engineering\n",
    "yomnawaleed2002@gmail.com\n",
    "EGYPT, AlGharbia goverment, tanta city.\n",
    "Yomna Waleed\n",
    "yomna_waleed\n",
    "+201118064546\n",
    "19/05/2002\n",
    "YomnaWaleed\n",
    "yomna_waleed\n",
    "EDUCATION\n",
    "Faculty of Engineering, Department of Computers and Control, Tanta university 2020 – 2025\n",
    "Tanta, Egypt\n",
    "TRAINING\n",
    "Manara Tech 04/2023 – present\n",
    "PROFILE\n",
    "I am a dedicated engineering student specializing in Computer and Automatic Control, with a strong academic background and practical experience in\n",
    "programming and software development. I excelled in my coursework, achieving an excellent degree in my second year and a very good grade in my\n",
    "first year. I have a solid foundation in Python programming and libraries essential for data science and machine learning, including NumPy, pandas,\n",
    "and Matplotlib. My participation in the International Collegiate Programming Contest (ICPC) as a team leader has further honed my problem-solving\n",
    "skills.\n",
    "I am actively expanding my expertise in machine learning (ML), particularly in Natural Language Processing (NLP) and Generative AI, having\n",
    "completed supervised machine learning courses and gained practical experience with various deep learning architectures, including DNNs, RNNs, and\n",
    "CNNs. My background also includes full-stack development using React.js and Node.js, enabling me to effectively integrate machine learning models\n",
    "into web applications.\n",
    "SKILLS\n",
    "Programming Languages & Technologies:\n",
    "•Python: Proficient\n",
    "•C++: Proficient\n",
    "•React.js: Competent\n",
    "•Node.js: Amateur\n",
    "•HTML/CSS: Competent\n",
    "Data Structures & Algorithms\n",
    "•Proficient in implementing algorithms and data structures in Python\n",
    "and C++\n",
    "•Strong foundation in problem-solving techniques, demonstrated\n",
    "through participation in competitive programming\n",
    "Machine Learning & Data Science:\n",
    "•Libraries: NumPy, pandas, Matplotlib (Competent)\n",
    "•Machine Learning: Supervised learning (regression, classification)\n",
    "using Scikit-learn (Competent)\n",
    "•Deep Learning: Familiar with TensorFlow and PyTorch (Amateur)\n",
    "•Architectures: DNN, RNN, CNN, Object Detection, Word Detection,\n",
    "Transfer Learning (Amateur)\n",
    "•Generative AI: Currently learning (Amateur)\n",
    "SOFT SKILLS\n",
    "Project management and leadership\n",
    "While I was working on the maze game project, I managed to divide the\n",
    "tasks among the group, although this was challenging because we chose\n",
    "a three-dimensional game that was beyond what we had learned.\n",
    "Thinking outside the box\n",
    "\"While choosing a project, I always try to challenge myself and attempt\n",
    "something that is difficult for others to implement, such as selecting a\n",
    "three-dimensional game instead of a two-dimensional one, despite the\n",
    "difficulty of it. I successfully completed the game.\"\n",
    "PROJECTS\n",
    "Email-SMS-Spam-Classifier, Developed a supervised machine learning model to classify emails and SMS messages as\n",
    "spam or not using Python and Scikit-learn.\n",
    "08/2024 – 08/2024\n",
    "Egypt-House-Price-Prediction--Regression-Project, Built a regression model to predict house prices based on\n",
    "various features, implemented with an HTML interface for user interaction.\n",
    "08/2024 – 08/2024\n",
    "Nonogram Puzzle, Created a Nonogram puzzle generator that utilizes backtracking methods and a CSP approach to\n",
    "solve generated puzzles. My contribution was in developing the solver algorithm.\n",
    "2024\n",
    "3d maze game, Developed a 3D maze game using OpenGL and Python, where players navigate to collect coins and solve\n",
    "puzzles. My role included building the player's movement mechanics and 3D interactions.\n",
    "2023\n",
    "Railway Ticket booking, Designed and implemented a train ticket booking system using Node.js, React.js, and MS SQL\n",
    "for database management, allowing users to book and cancel tickets.\n",
    "2023\n",
    "simple memory gain, Created a memory game using React.js that challenges users to find pairs of matching images. 2023\n",
    "CERTIFICATES\n",
    "ICPC Qualification 2022\n",
    "Problem Solving\n",
    "Back-end enineering using Nodejs and Express\n",
    "Ideal Student Recognition\n",
    "ICPC qualification 2023\n",
    "Zero to Hero in Front-end Development with React\n",
    "Fullstack Engineering with React and Node.js\n",
    "Volunteer Work at College and University\n",
    "LANGUAGES\n",
    "English\n",
    "EF SET English Certificate\n",
    "French\"\"\""
   ]
  },
  {
   "cell_type": "markdown",
   "metadata": {},
   "source": [
    "### another method for get similarities using SBERT"
   ]
  },
  {
   "cell_type": "code",
   "execution_count": 7,
   "metadata": {},
   "outputs": [],
   "source": [
    "from sentence_transformers import SentenceTransformer\n",
    "from sklearn.metrics.pairwise import cosine_similarity\n",
    "import numpy as np\n",
    "\n",
    "# Choose a more accurate model if needed\n",
    "model = SentenceTransformer(\"all-mpnet-base-v2\")\n",
    "\n",
    "# Preprocess the text data (assuming resume_text and job_texts are already preprocessed)\n",
    "resume_embedding = model.encode([resume_text])\n",
    "job_embeddings = model.encode(Jobs[\"job_text\"])\n",
    "\n",
    "# Calculate cosine similarities\n",
    "similarities = cosine_similarity(resume_embedding, job_embeddings).flatten()\n",
    "\n"
   ]
  },
  {
   "cell_type": "code",
   "execution_count": 8,
   "metadata": {},
   "outputs": [],
   "source": [
    "# Set a similarity threshold (adjust based on your needs)\n",
    "similarity_threshold = 0.4\n",
    "\n",
    "# Filter out jobs below the threshold\n",
    "relevant_indices = np.where(similarities >= similarity_threshold)[0]\n",
    "\n",
    "# Sort the relevant indices by similarity score\n",
    "sorted_indices = relevant_indices[np.argsort(-similarities[relevant_indices])]"
   ]
  },
  {
   "cell_type": "markdown",
   "metadata": {},
   "source": [
    "#### Get top N relevant jobs with SBERT similarity"
   ]
  },
  {
   "cell_type": "code",
   "execution_count": 9,
   "metadata": {},
   "outputs": [
    {
     "name": "stdout",
     "output_type": "stream",
     "text": [
      "[7363 9409 7406 9702 4196 3471 7628  448 1944 1363 3365  403 4179 1978\n",
      " 1250 1304 6035 8832 3870 2133 3004 1488 9077 5679]\n"
     ]
    }
   ],
   "source": [
    "print(sorted_indices)"
   ]
  },
  {
   "cell_type": "code",
   "execution_count": 10,
   "metadata": {},
   "outputs": [],
   "source": [
    "# Get the top N relevant job IDs\n",
    "top_n = 50\n",
    "relevant_job_ids = Jobs.iloc[sorted_indices[:top_n]][\"Job Id\"].tolist()"
   ]
  },
  {
   "cell_type": "code",
   "execution_count": 11,
   "metadata": {},
   "outputs": [
    {
     "name": "stdout",
     "output_type": "stream",
     "text": [
      "the relevant_job_ids [2027725316497091, 1384036741810650, 3042660353333977, 1664810592052377, 1227100998565233, 556045185980013, 2049865366415549, 1471835796989801, 2973044963656949, 1278156265563034, 956220317793134, 3089656468794782, 2815162405534159, 2704243050080316, 2131482901498230, 2716774249506789, 2986401077009885, 1913338430447830, 50050561683450, 1853720228172297, 503370432399661, 724683515252858, 1067777464493633, 1323883780511473]\n",
      "24\n"
     ]
    }
   ],
   "source": [
    "print(f\"the relevant_job_ids {relevant_job_ids}\")\n",
    "print(len(relevant_job_ids))"
   ]
  },
  {
   "cell_type": "markdown",
   "metadata": {},
   "source": [
    "### Define MRR calculation function "
   ]
  },
  {
   "cell_type": "code",
   "execution_count": 12,
   "metadata": {},
   "outputs": [],
   "source": [
    "# Define MRR calculation function\n",
    "def calculate_mrr(recommended_jobs, relevant_job_ids):\n",
    "    \"\"\"\n",
    "    Calculate Mean Reciprocal Rank (MRR) for the recommended jobs.\n",
    "    \n",
    "    :param recommended_jobs: List of recommended jobs (each job should have a 'Job Id').\n",
    "    :param relevant_job_ids: List of relevant job IDs (ground truth).\n",
    "    :return: MRR score.\n",
    "    \"\"\"\n",
    "    reciprocal_ranks = []\n",
    "    \n",
    "    for relevant_id in relevant_job_ids:\n",
    "        for rank, job in enumerate(recommended_jobs, start=1):\n",
    "            if job[\"Job Id\"] == relevant_id:\n",
    "                reciprocal_ranks.append(1.0 / rank)\n",
    "                break\n",
    "    \n",
    "    if len(reciprocal_ranks) == 0:\n",
    "        return 0.0  # If no relevant jobs are found, MRR is 0.\n",
    "    \n",
    "    return sum(reciprocal_ranks) / len(reciprocal_ranks)\n"
   ]
  },
  {
   "cell_type": "markdown",
   "metadata": {},
   "source": [
    "##### Define evaluation function using MRR\n"
   ]
  },
  {
   "cell_type": "code",
   "execution_count": 13,
   "metadata": {},
   "outputs": [],
   "source": [
    "def evaluate_model_results_mrr(recommended_jobs, relevant_job_ids):\n",
    "    \"\"\"\n",
    "    Evaluates the model results using Mean Reciprocal Rank (MRR).\n",
    "    \n",
    "    :param recommended_jobs: List of recommended jobs (each job should have a 'Job Id').\n",
    "    :param relevant_job_ids: List of relevant job IDs (ground truth).\n",
    "    :return: MRR score.\n",
    "    \"\"\"\n",
    "    mrr_score = calculate_mrr(recommended_jobs, relevant_job_ids)\n",
    "    print(f\"MRR Score: {mrr_score:.4f}\")\n",
    "    return mrr_score\n",
    "\n",
    "# Example relevant job IDs (ground truth)\n",
    "# If no labels are provided, use the TF-IDF-based relevant_job_ids\n",
    "if not relevant_job_ids:\n",
    "    relevant_job_ids = relevant_job_ids  # Use the TF-IDF-based relevant job IDs\n"
   ]
  },
  {
   "cell_type": "markdown",
   "metadata": {},
   "source": [
    "### Load and evaluate SBERT model"
   ]
  },
  {
   "cell_type": "code",
   "execution_count": 14,
   "metadata": {},
   "outputs": [],
   "source": [
    "from SBERTmodel import JobRecommendationSystem as SBERTmodel\n"
   ]
  },
  {
   "cell_type": "code",
   "execution_count": 15,
   "metadata": {},
   "outputs": [
    {
     "name": "stdout",
     "output_type": "stream",
     "text": [
      "Loaded job data with columns: Index(['Job Id', 'workplace', 'working_mode', 'salary', 'position',\n",
      "       'job_role_and_duties', 'requisite_skill', 'offer_details'],\n",
      "      dtype='object')\n",
      "the time of  Excution of SBERT model is 75.21094274520874\n"
     ]
    }
   ],
   "source": [
    "start = time.time()\n",
    "recommender_SBERT = SBERTmodel(\"JobsFE.csv\")\n",
    "recommended_jobs_SBERT = recommender_SBERT.recommend_jobs(resume_text, top_n=50)\n",
    "time_SBERT = time.time() - start\n",
    "print(f\"the time of  Excution of SBERT model is {time_SBERT}\")"
   ]
  },
  {
   "cell_type": "code",
   "execution_count": 16,
   "metadata": {},
   "outputs": [
    {
     "name": "stdout",
     "output_type": "stream",
     "text": [
      "MRR Score: 0.1244\n"
     ]
    }
   ],
   "source": [
    "SBERT_mrr = evaluate_model_results_mrr(recommended_jobs_SBERT[\"recommended_jobs\"], relevant_job_ids)"
   ]
  },
  {
   "cell_type": "markdown",
   "metadata": {},
   "source": [
    "#### Load and evaluate FastText model"
   ]
  },
  {
   "cell_type": "code",
   "execution_count": 17,
   "metadata": {},
   "outputs": [
    {
     "name": "stderr",
     "output_type": "stream",
     "text": [
      "[nltk_data] Downloading package stopwords to\n",
      "[nltk_data]     C:\\Users\\LAPSHOP\\AppData\\Roaming\\nltk_data...\n",
      "[nltk_data]   Package stopwords is already up-to-date!\n",
      "[nltk_data] Downloading package wordnet to\n",
      "[nltk_data]     C:\\Users\\LAPSHOP\\AppData\\Roaming\\nltk_data...\n",
      "[nltk_data]   Package wordnet is already up-to-date!\n"
     ]
    }
   ],
   "source": [
    "from FastText.FastTextmodel import JobRecommendationSystem as FastTextmodel"
   ]
  },
  {
   "cell_type": "code",
   "execution_count": 18,
   "metadata": {},
   "outputs": [
    {
     "name": "stdout",
     "output_type": "stream",
     "text": [
      " the Excution time of FastText is 89.98713564872742\n"
     ]
    }
   ],
   "source": [
    "start = time.time()\n",
    "recommender_fastText = FastTextmodel(\"JobsFE.csv\")\n",
    "recommended_jobs_fastText = recommender_fastText.recommend_jobs(resume_text, top_n=50)\n",
    "time_fastText = time.time() - start\n",
    "print(f\" the Excution time of FastText is {time_fastText}\")"
   ]
  },
  {
   "cell_type": "code",
   "execution_count": 19,
   "metadata": {},
   "outputs": [
    {
     "name": "stdout",
     "output_type": "stream",
     "text": [
      "MRR Score: 0.1736\n"
     ]
    }
   ],
   "source": [
    "FastText_mrr = evaluate_model_results_mrr(recommended_jobs_fastText[\"recommended_jobs\"], relevant_job_ids)"
   ]
  },
  {
   "cell_type": "markdown",
   "metadata": {},
   "source": [
    "#### Load and evaluate BM25 model"
   ]
  },
  {
   "cell_type": "code",
   "execution_count": 20,
   "metadata": {},
   "outputs": [
    {
     "name": "stderr",
     "output_type": "stream",
     "text": [
      "[nltk_data] Downloading package punkt to\n",
      "[nltk_data]     C:\\Users\\LAPSHOP\\AppData\\Roaming\\nltk_data...\n",
      "[nltk_data]   Package punkt is already up-to-date!\n",
      "[nltk_data] Downloading package stopwords to\n",
      "[nltk_data]     C:\\Users\\LAPSHOP\\AppData\\Roaming\\nltk_data...\n",
      "[nltk_data]   Package stopwords is already up-to-date!\n",
      "[nltk_data] Downloading package wordnet to\n",
      "[nltk_data]     C:\\Users\\LAPSHOP\\AppData\\Roaming\\nltk_data...\n",
      "[nltk_data]   Package wordnet is already up-to-date!\n"
     ]
    }
   ],
   "source": [
    "from BM25model import JobRecommendationSystem as BM25model"
   ]
  },
  {
   "cell_type": "code",
   "execution_count": 21,
   "metadata": {},
   "outputs": [
    {
     "name": "stdout",
     "output_type": "stream",
     "text": [
      "Loaded job data with columns: Index(['Job Id', 'workplace', 'working_mode', 'salary', 'position',\n",
      "       'job_role_and_duties', 'requisite_skill', 'offer_details'],\n",
      "      dtype='object')\n",
      " the Excution time of BM25 is 167.2642743587494\n"
     ]
    }
   ],
   "source": [
    "start = time.time()\n",
    "recommender_BM25 = BM25model(\"JobsFE.csv\")\n",
    "recommended_jobs_BM25 = recommender_BM25.recommend_jobs(resume_text, top_n=50)\n",
    "time_BM25 = time.time() - start\n",
    "print(f\" the Excution time of BM25 is {time_BM25}\")"
   ]
  },
  {
   "cell_type": "code",
   "execution_count": 22,
   "metadata": {},
   "outputs": [
    {
     "name": "stdout",
     "output_type": "stream",
     "text": [
      "MRR Score: 0.1736\n"
     ]
    }
   ],
   "source": [
    "BM25_mrr = evaluate_model_results_mrr(recommended_jobs_BM25[\"recommended_jobs\"], relevant_job_ids)"
   ]
  },
  {
   "cell_type": "markdown",
   "metadata": {},
   "source": [
    "#### Load and evaluate TF-IDF model"
   ]
  },
  {
   "cell_type": "code",
   "execution_count": 23,
   "metadata": {},
   "outputs": [],
   "source": [
    "from TFIDFmodel import JobRecommendationSystem as TFIDFmodel"
   ]
  },
  {
   "cell_type": "code",
   "execution_count": 24,
   "metadata": {},
   "outputs": [
    {
     "name": "stdout",
     "output_type": "stream",
     "text": [
      "the Execution time of TF-IDF model is 0.8407325744628906\n"
     ]
    }
   ],
   "source": [
    "start = time.time()\n",
    "recommender_TFIDF = TFIDFmodel(\"JobsFE.csv\")\n",
    "recommended_jobs_TFIDF = recommender_TFIDF.recommend_jobs(resume_text, top_n=50)\n",
    "time_TFIDF = time.time() - start\n",
    "print(f\"the Execution time of TF-IDF model is {time_TFIDF}\")"
   ]
  },
  {
   "cell_type": "code",
   "execution_count": 25,
   "metadata": {},
   "outputs": [
    {
     "name": "stdout",
     "output_type": "stream",
     "text": [
      "MRR Score: 0.1736\n"
     ]
    }
   ],
   "source": [
    "TFIDF_mrr = evaluate_model_results_mrr(recommended_jobs_TFIDF[\"recommended_jobs\"], relevant_job_ids)"
   ]
  },
  {
   "cell_type": "markdown",
   "metadata": {},
   "source": [
    "#### Load the evaluate KNN model "
   ]
  },
  {
   "cell_type": "code",
   "execution_count": 26,
   "metadata": {},
   "outputs": [],
   "source": [
    "from KNNmodel import JobRecommendationSystem as KNNmodel"
   ]
  },
  {
   "cell_type": "code",
   "execution_count": 27,
   "metadata": {},
   "outputs": [
    {
     "name": "stdout",
     "output_type": "stream",
     "text": [
      "the Excution time of KNN is 3.1402769088745117\n"
     ]
    }
   ],
   "source": [
    "start = time.time()\n",
    "recommender_KNN = KNNmodel(\"JobsFE.csv\")\n",
    "recommended_jobs_KNN = recommender_KNN.recommend_jobs(resume_text, top_n=50)\n",
    "time_KNN = time.time() - start\n",
    "print(f\"the Excution time of KNN is {time_KNN}\")"
   ]
  },
  {
   "cell_type": "code",
   "execution_count": 28,
   "metadata": {},
   "outputs": [
    {
     "name": "stdout",
     "output_type": "stream",
     "text": [
      "MRR Score: 0.1736\n"
     ]
    }
   ],
   "source": [
    "KNN_mrr = evaluate_model_results_mrr(recommended_jobs_KNN[\"recommended_jobs\"], relevant_job_ids)"
   ]
  },
  {
   "cell_type": "markdown",
   "metadata": {},
   "source": [
    "#### Load the evaluate LDA model "
   ]
  },
  {
   "cell_type": "code",
   "execution_count": 29,
   "metadata": {},
   "outputs": [
    {
     "name": "stderr",
     "output_type": "stream",
     "text": [
      "[nltk_data] Downloading package stopwords to\n",
      "[nltk_data]     C:\\Users\\LAPSHOP\\AppData\\Roaming\\nltk_data...\n",
      "[nltk_data]   Package stopwords is already up-to-date!\n",
      "[nltk_data] Downloading package wordnet to\n",
      "[nltk_data]     C:\\Users\\LAPSHOP\\AppData\\Roaming\\nltk_data...\n",
      "[nltk_data]   Package wordnet is already up-to-date!\n",
      "[nltk_data] Downloading package punkt to\n",
      "[nltk_data]     C:\\Users\\LAPSHOP\\AppData\\Roaming\\nltk_data...\n",
      "[nltk_data]   Package punkt is already up-to-date!\n"
     ]
    }
   ],
   "source": [
    "from LDAmodel import JobRecommendationSystem as LDAmodel"
   ]
  },
  {
   "cell_type": "code",
   "execution_count": 30,
   "metadata": {},
   "outputs": [
    {
     "name": "stdout",
     "output_type": "stream",
     "text": [
      "Index(['Job Id', 'workplace', 'working_mode', 'salary', 'position',\n",
      "       'job_role_and_duties', 'requisite_skill', 'offer_details', 'job_text',\n",
      "       'cluster'],\n",
      "      dtype='object')\n",
      "the excution time of LDA model is 62.49177551269531\n"
     ]
    }
   ],
   "source": [
    "start = time.time()\n",
    "recommender_LDA = LDAmodel(\"Jobs_with_clusters.csv\")\n",
    "recommended_jobs_LDA = recommender_LDA.recommend_jobs(resume_text, top_n=50)\n",
    "time_LDA = time.time() - start\n",
    "print(f\"the excution time of LDA model is {time_LDA}\")"
   ]
  },
  {
   "cell_type": "code",
   "execution_count": 31,
   "metadata": {},
   "outputs": [
    {
     "name": "stdout",
     "output_type": "stream",
     "text": [
      "MRR Score: 0.0000\n"
     ]
    }
   ],
   "source": [
    "LDA_mrr = evaluate_model_results_mrr(recommended_jobs_LDA[\"recommended_jobs\"], relevant_job_ids)"
   ]
  },
  {
   "cell_type": "markdown",
   "metadata": {},
   "source": [
    "### Plot MRR and execution time"
   ]
  },
  {
   "cell_type": "code",
   "execution_count": 32,
   "metadata": {},
   "outputs": [
    {
     "data": {
      "image/png": "[encoded data removed]",
      "text/plain": [
       "<Figure size 1000x1000 with 2 Axes>"
      ]
     },
     "metadata": {},
     "output_type": "display_data"
    }
   ],
   "source": [
    "import matplotlib.pyplot as plt\n",
    "models = ['SBERT', 'TF-IDF', 'KNN', 'LDA', 'BM25', 'FastText']\n",
    "mrr_scores = [SBERT_mrr, TFIDF_mrr, KNN_mrr, LDA_mrr, BM25_mrr, FastText_mrr]\n",
    "execution_time = [time_SBERT, time_TFIDF, time_KNN, time_LDA, time_BM25, time_fastText]\n",
    "\n",
    "x = np.arange(len(models))\n",
    "width = 0.5\n",
    "\n",
    "fig, (ax1, ax2) = plt.subplots(2, 1, figsize=(10, 10))\n",
    "# MRR Plot\n",
    "ax1.bar(x, mrr_scores, width, color='tab:blue')\n",
    "ax1.set_ylabel('MRR', color='tab:blue')\n",
    "ax1.set_title('Model MRR Scores')\n",
    "ax1.set_xticks(x)\n",
    "ax1.set_xticklabels(models)\n",
    "ax1.set_ylim(0, 1.1)\n",
    "ax1.grid(axis='y', linestyle='--', alpha=0.7)\n",
    "\n",
    "# Execution Time Plot\n",
    "ax2.bar(x, execution_time, width, color='tab:red')\n",
    "ax2.set_ylabel('Execution Time (s)', color='tab:red')\n",
    "ax2.set_title('Model Execution Time')\n",
    "ax2.set_xticks(x)\n",
    "ax2.set_xticklabels(models)\n",
    "ax2.set_ylim(0, max(execution_time) * 1.1)\n",
    "ax2.grid(axis='y', linestyle='--', alpha=0.7)\n",
    "\n",
    "plt.tight_layout()\n",
    "plt.show()"
   ]
  },
  {
   "cell_type": "code",
   "execution_count": null,
   "metadata": {},
   "outputs": [],
   "source": []
  }
 ],
 "metadata": {
  "kernelspec": {
   "display_name": "my_env",
   "language": "python",
   "name": "python3"
  },
  "language_info": {
   "codemirror_mode": {
    "name": "ipython",
    "version": 3
   },
   "file_extension": ".py",
   "mimetype": "text/x-python",
   "name": "python",
   "nbconvert_exporter": "python",
   "pygments_lexer": "ipython3",
   "version": "3.9.21"
  }
 },
 "nbformat": 4,
 "nbformat_minor": 2
}

{
 "cells": [
  {
   "cell_type": "code",
   "id": "initial_id",
   "metadata": {
    "collapsed": true,
    "ExecuteTime": {
     "end_time": "2025-02-17T21:02:00.287Z",
     "start_time": "2025-02-17T21:01:58.853588Z"
    }
   },
   "source": [
    "# import libraries\n",
    "from fastapi import FastAPI, UploadFile, File\n",
    "import pandas as pd\n",
    "import json\n",
    "from sklearn.feature_extraction.text import TfidfVectorizer\n",
    "from sklearn.metrics.pairwise import cosine_similarity\n",
    "from typing import List"
   ],
   "outputs": [],
   "execution_count": 6
  },
  {
   "metadata": {
    "ExecuteTime": {
     "end_time": "2025-02-17T21:02:00.350122Z",
     "start_time": "2025-02-17T21:02:00.307659Z"
    }
   },
   "cell_type": "code",
   "source": [
    "app = FastAPI()\n",
    "\n",
    "def load_json_file(file: UploadFile):\n",
    "    \"\"\"Loads JSON data from an uploaded file into a Pandas DataFrame.\"\"\"\n",
    "    data = json.load(file.file)\n",
    "    return pd.DataFrame(data)\n",
    "\n",
    "def process_column(value):\n",
    "    \"\"\"Flattens nested lists and converts everything to a string.\"\"\"\n",
    "    if isinstance(value, list):\n",
    "        flat_list = []\n",
    "        for item in value:\n",
    "            if isinstance(item, list):\n",
    "                flat_list.extend(item)\n",
    "            else:\n",
    "                flat_list.append(item)\n",
    "        return ' '.join(map(str, flat_list))\n",
    "    return str(value)"
   ],
   "id": "f56c72347dea4eae",
   "outputs": [],
   "execution_count": 7
  },
  {
   "metadata": {},
   "cell_type": "markdown",
   "source": "# **TF-IDF Vectorizer , Cosine similarity and top-N**",
   "id": "29be9c02e1f2c92a"
  },
  {
   "metadata": {
    "ExecuteTime": {
     "end_time": "2025-02-17T21:02:00.508690Z",
     "start_time": "2025-02-17T21:02:00.453258Z"
    }
   },
   "cell_type": "code",
   "source": [
    "def recommend_jobs(resume_df, jobs_df, top_n=5):\n",
    "    \"\"\"Recommends jobs based on a resume using TF-IDF.\"\"\"\n",
    "    resume_text = resume_df.apply(lambda row: ' '.join([\n",
    "        process_column(row['skills']),\n",
    "        process_column(row['institution']),\n",
    "        process_column(row['degree_names']),\n",
    "        process_column(row['field_of_study']),\n",
    "        process_column(row['experience_related_skills']),\n",
    "        process_column(row['experience_positions']),\n",
    "        process_column(row['experience_responsibilities']),\n",
    "    ]), axis=1).values\n",
    "\n",
    "    jobs_text = jobs_df.apply(lambda row: ' '.join([\n",
    "        process_column(row['position']),\n",
    "        process_column(row['job_role_and_duties']),\n",
    "        process_column(row['requisite_skill']),\n",
    "        process_column(row['offer_details'])\n",
    "    ]), axis=1).values\n",
    "\n",
    "    all_text = pd.Series(list(resume_text) + list(jobs_text))\n",
    "    tfidf = TfidfVectorizer(stop_words='english')\n",
    "    tfidf_matrix = tfidf.fit_transform(all_text)\n",
    "    resume_tfidf = tfidf_matrix[:len(resume_df)]\n",
    "    jobs_tfidf = tfidf_matrix[len(resume_df):]\n",
    "\n",
    "    cosine_similarities = cosine_similarity(resume_tfidf, jobs_tfidf)\n",
    "\n",
    "    if cosine_similarities.size > 0:\n",
    "        recommended_job_indices = cosine_similarities.argsort(axis=1)[:, ::-1][0]\n",
    "        num_recommendations = min(top_n, len(recommended_job_indices))\n",
    "        recommended_job_indices = recommended_job_indices[:num_recommendations]\n",
    "        recommended_jobs = jobs_df.iloc[recommended_job_indices.tolist()]\n",
    "    else:\n",
    "        recommended_jobs = pd.DataFrame()\n",
    "    \n",
    "    return recommended_jobs.to_dict(orient='records')\n",
    "\n",
    "@app.post(\"/recommend\")\n",
    "async def get_recommendations(resume_file: UploadFile = File(...), job_file: UploadFile = File(...), top_n: int = 5):\n",
    "    resume_df = load_json_file(resume_file)\n",
    "    jobs_df = load_json_file(job_file)\n",
    "    recommendations = recommend_jobs(resume_df, jobs_df, top_n)\n",
    "    return {\"recommendations\": recommendations}"
   ],
   "id": "d4b7347acc4116a9",
   "outputs": [],
   "execution_count": 8
  },
  {
   "metadata": {
    "ExecuteTime": {
     "end_time": "2025-02-17T21:02:00.799035Z",
     "start_time": "2025-02-17T21:02:00.688126Z"
    }
   },
   "cell_type": "code",
   "source": [
    "# Sample JSON Data for Testing\n",
    "jobs_json = {\n",
    "    \"Job Id\": [1017340707950150],\n",
    "    \"workplace\": [\"panama city panama\"],\n",
    "    \"working_mode\": [\"contract\"],\n",
    "    \"salary\": [69500.0],\n",
    "    \"position\": [\"procurement manager\"],\n",
    "    \"job_role_and_duties\": [[\"promote\", \"supplier\", \"diversity\", \"initiatives\"]],\n",
    "    \"requisite_skill\": [[\"supplier\", \"diversity\", \"assessment\"]],\n",
    "    \"offer_details\": [[\"transportation\", \"benefits\"]]\n",
    "}\n",
    "jobs_df = pd.DataFrame(jobs_json)\n",
    "\n",
    "resume_json = [{\n",
    "    \"skills\": [[\"Big Data\", \"Hadoop\", \"Hive\", \"Python\"]],\n",
    "    \"institution\": \"the amity school of engineering & technology (aset), noida\",\n",
    "    \"degree_names\": \"b.tech\",\n",
    "    \"graduation_year\": 2019,\n",
    "    \"field_of_study\": \"electronics\",\n",
    "    \"experience_related_skills\": [[\"Big Data\"]],\n",
    "    \"experience_positions\": [[\"Big Data Analyst\"]],\n",
    "    \"experience_responsibilities\": [[\"Technical Support\", \"Troubleshooting\"]]\n",
    "}]\n",
    "resume_df = pd.DataFrame(resume_json)\n",
    "\n",
    "# Call Function\n",
    "recommendations = recommend_jobs(resume_df, jobs_df)\n",
    "print(recommendations)"
   ],
   "id": "c2a7187abe2eedee",
   "outputs": [
    {
     "name": "stdout",
     "output_type": "stream",
     "text": [
      "[{'Job Id': 1017340707950150, 'workplace': 'panama city panama', 'working_mode': 'contract', 'salary': 69500.0, 'position': 'procurement manager', 'job_role_and_duties': ['promote', 'supplier', 'diversity', 'initiatives'], 'requisite_skill': ['supplier', 'diversity', 'assessment'], 'offer_details': ['transportation', 'benefits']}]\n"
     ]
    }
   ],
   "execution_count": 9
  },
  {
   "metadata": {},
   "cell_type": "markdown",
   "source": "# **Measure the execution time:** ",
   "id": "8a729326f08acb59"
  },
  {
   "metadata": {
    "ExecuteTime": {
     "end_time": "2025-02-17T21:02:00.962001Z",
     "start_time": "2025-02-17T21:02:00.919660Z"
    }
   },
   "cell_type": "code",
   "source": [
    "import time\n",
    "\n",
    "start_time = time.time()\n",
    "recommendations = recommend_jobs(resume_df, jobs_df)\n",
    "end_time = time.time()\n",
    "\n",
    "execution_time = end_time - start_time\n",
    "print(f\"Time taken to recommend jobs: {execution_time:.4f} seconds\")\n",
    "print(recommendations)"
   ],
   "id": "ec85fba4d7dbbfd3",
   "outputs": [
    {
     "name": "stdout",
     "output_type": "stream",
     "text": [
      "Time taken to recommend jobs: 0.0167 seconds\n",
      "[{'Job Id': 1017340707950150, 'workplace': 'panama city panama', 'working_mode': 'contract', 'salary': 69500.0, 'position': 'procurement manager', 'job_role_and_duties': ['promote', 'supplier', 'diversity', 'initiatives'], 'requisite_skill': ['supplier', 'diversity', 'assessment'], 'offer_details': ['transportation', 'benefits']}]\n"
     ]
    }
   ],
   "execution_count": 10
  }
 ],
 "metadata": {
  "kernelspec": {
   "display_name": "Python 3",
   "language": "python",
   "name": "python3"
  },
  "language_info": {
   "codemirror_mode": {
    "name": "ipython",
    "version": 2
   },
   "file_extension": ".py",
   "mimetype": "text/x-python",
   "name": "python",
   "nbconvert_exporter": "python",
   "pygments_lexer": "ipython2",
   "version": "2.7.6"
  }
 },
 "nbformat": 4,
 "nbformat_minor": 5
}
